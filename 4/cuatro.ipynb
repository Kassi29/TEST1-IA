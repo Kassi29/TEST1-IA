{
  "nbformat": 4,
  "nbformat_minor": 0,
  "metadata": {
    "colab": {
      "provenance": []
    },
    "kernelspec": {
      "name": "python3",
      "display_name": "Python 3"
    },
    "language_info": {
      "name": "python"
    }
  },
  "cells": [
    {
      "cell_type": "markdown",
      "source": [
        "## 4. Preprocesamiento con Librerías\n",
        "Con el uso de librerías, realice en Python los mismos preprocesamientos del punto 3.\n"
      ],
      "metadata": {
        "id": "qjr9eQXKOmnX"
      }
    },
    {
      "cell_type": "markdown",
      "source": [
        "## Ajustes generales"
      ],
      "metadata": {
        "id": "ne_2Ad7iYAY2"
      }
    },
    {
      "cell_type": "code",
      "execution_count": 32,
      "metadata": {
        "colab": {
          "base_uri": "https://localhost:8080/"
        },
        "id": "vQ84Rmx_FUNJ",
        "outputId": "f3eef8c9-6ce3-49c4-e1e1-b84f838761f3"
      },
      "outputs": [
        {
          "output_type": "stream",
          "name": "stdout",
          "text": [
            "Drive already mounted at /content/drive; to attempt to forcibly remount, call drive.mount(\"/content/drive\", force_remount=True).\n",
            "   Rank            Title                       Artists        Date  \\\n",
            "0     1  Ella Baila Sola  [Eslabon Armado, Peso Pluma]  29/05/2023   \n",
            "1     1  Ella Baila Sola  [Eslabon Armado, Peso Pluma]  29/05/2023   \n",
            "2     2   WHERE SHE GOES                   [Bad Bunny]  29/05/2023   \n",
            "3     3  La Bebe - Remix       [Yng Lvcas, Peso Pluma]  29/05/2023   \n",
            "4     3  La Bebe - Remix       [Yng Lvcas, Peso Pluma]  29/05/2023   \n",
            "\n",
            "   Danceability  Energy  Loudness  Speechiness  Acousticness  \\\n",
            "0         0.668   0.758   -5176.0        0.033         0.483   \n",
            "1         0.668   0.758   -5176.0        0.033         0.483   \n",
            "2         0.652   0.800   -4019.0        0.061         0.143   \n",
            "3         0.812   0.479   -5678.0        0.333         0.213   \n",
            "4         0.812   0.479   -5678.0        0.333         0.213   \n",
            "\n",
            "   Instrumentalness  Valence # of Artist   Artist (Ind.) # of Nationality  \\\n",
            "0             0.000    0.834    Artist 1  Eslabon Armado    Nationality 1   \n",
            "1             0.000    0.834    Artist 2      Peso Pluma    Nationality 2   \n",
            "2             0.629    0.234    Artist 1       Bad Bunny    Nationality 1   \n",
            "3             0.000    0.559    Artist 1       Yng Lvcas    Nationality 1   \n",
            "4             0.000    0.559    Artist 2      Peso Pluma    Nationality 2   \n",
            "\n",
            "   Nationality      Continent  Points (Total)  \\\n",
            "0       Mexico  Latin-America             200   \n",
            "1       Mexico  Latin-America             200   \n",
            "2  Puerto Rico  Latin-America             199   \n",
            "3       Mexico  Latin-America             198   \n",
            "4       Mexico  Latin-America             198   \n",
            "\n",
            "   Points (Ind for each Artist/Nat)                      id  \\\n",
            "0                             100.0  3qQbCzHBycnDpGskqOWY0E   \n",
            "1                             100.0  3qQbCzHBycnDpGskqOWY0E   \n",
            "2                             199.0  7ro0hRteUMfnOioTFI5TG1   \n",
            "3                              99.0  2UW7JaomAMuX9pZrjVpHAU   \n",
            "4                              99.0  2UW7JaomAMuX9pZrjVpHAU   \n",
            "\n",
            "                                            Song URL  \n",
            "0  https://open.spotify.com/track/3qQbCzHBycnDpGs...  \n",
            "1  https://open.spotify.com/track/3qQbCzHBycnDpGs...  \n",
            "2  https://open.spotify.com/track/7ro0hRteUMfnOio...  \n",
            "3  https://open.spotify.com/track/2UW7JaomAMuX9pZ...  \n",
            "4  https://open.spotify.com/track/2UW7JaomAMuX9pZ...  \n"
          ]
        }
      ],
      "source": [
        "from google.colab import drive\n",
        "import pandas as pd\n",
        "\n",
        "# Montar Google Drive\n",
        "drive.mount('/content/drive')\n",
        "\n",
        "# Cargar el archivo CSV\n",
        "df = pd.read_csv('/content/drive/My Drive/TAREAS U/8vo semestre/IA/Apoyo 1er parcial/Spotify_Dataset_V3.csv', delimiter=';')\n",
        "\n",
        "\n",
        "df['Artists'] = df['Artists'].str.split('-')\n",
        "\n",
        "\n",
        "print(df.head())\n",
        "\n"
      ]
    },
    {
      "cell_type": "code",
      "source": [
        "def detalles(df):\n",
        "    # Número de columnas\n",
        "    numero_columnas = df.shape[1]\n",
        "\n",
        "    # Nombres de las columnas\n",
        "    nombres_columnas = df.columns.tolist()\n",
        "\n",
        "    # Número de filas\n",
        "    numero_filas = df.shape[0]\n",
        "\n",
        "    print(f\"Número de columnas: {numero_columnas}\")\n",
        "    print(\"Nombres de las columnas:\", nombres_columnas)\n",
        "    print(f\"Número de filas: {numero_filas}\")\n",
        "\n",
        "\n",
        "detalles(df)"
      ],
      "metadata": {
        "colab": {
          "base_uri": "https://localhost:8080/"
        },
        "id": "8oHJatKiOw-q",
        "outputId": "88dcd0a2-0fc3-4b57-be42-ada09d4a64ee"
      },
      "execution_count": 33,
      "outputs": [
        {
          "output_type": "stream",
          "name": "stdout",
          "text": [
            "Número de columnas: 20\n",
            "Nombres de las columnas: ['Rank', 'Title', 'Artists', 'Date', 'Danceability', 'Energy', 'Loudness', 'Speechiness', 'Acousticness', 'Instrumentalness', 'Valence', '# of Artist', 'Artist (Ind.)', '# of Nationality', 'Nationality', 'Continent', 'Points (Total)', 'Points (Ind for each Artist/Nat)', 'id', 'Song URL']\n",
            "Número de filas: 23181\n"
          ]
        }
      ]
    },
    {
      "cell_type": "code",
      "source": [
        "#Mejoras\n",
        "\n",
        "# Convertir la columna 'Date' a tipo datetime\n",
        "df['Date'] = pd.to_datetime(df['Date'], format='%d/%m/%Y')\n",
        "\n",
        "# Crear un diccionario para mapear los nombres de los artistas a números\n",
        "artist_mapping = {\n",
        "    'Artist 1': 1,\n",
        "    'Artist 2': 2,\n",
        "    'Artist 3': 3,\n",
        "    'Artist 4': 4,\n",
        "    'Artist 5': 5\n",
        "}\n",
        "\n",
        "# Usar el método replace para transformar la columna\n",
        "df['Num_of_Artists'] = df['# of Artist'].replace(artist_mapping)\n",
        "\n",
        "# Verificar el contenido de la nueva columna\n",
        "print(df[['# of Artist', 'Num_of_Artists']].head())\n",
        "\n",
        "# Dropear la columna '# of Artist'\n",
        "df = df.drop(columns=['# of Artist'])\n",
        "# Crear un diccionario para mapear las nacionalidades a números\n",
        "nationality_mapping = {\n",
        "    'Nationality 1': 1,\n",
        "    'Nationality 2': 2,\n",
        "    'Nationality 3': 3,\n",
        "    'Nationality 4': 4,\n",
        "    'Nationality 5': 5\n",
        "}\n",
        "\n",
        "# Usar el método replace para transformar la columna\n",
        "df['Num_of_Nationality'] = df['# of Nationality'].replace(nationality_mapping)\n",
        "\n",
        "# Verificar el contenido de la nueva columna\n",
        "print(df[['# of Nationality', 'Num_of_Nationality']].head())\n",
        "\n",
        "# Dropear la columna '# of Nationality'\n",
        "df = df.drop(columns=['# of Nationality'])\n",
        "\n",
        "#DECIDI ELIMNAR TITULO Y MI ARRYA DE NOMBRE ARTISTAS\n",
        "df = df.drop(columns=['Title'])\n",
        "df = df.drop(columns=['Artists'])\n",
        "\n",
        "\n",
        "# Eliminar las columnas 'id' y 'Song URL'\n",
        "df = df.drop(columns=['id', 'Song URL'])\n",
        "\n"
      ],
      "metadata": {
        "colab": {
          "base_uri": "https://localhost:8080/"
        },
        "id": "qDL3IJO1Po5V",
        "outputId": "2b74a7c4-fe2b-4c85-a3ac-7bc9f01a376e"
      },
      "execution_count": 34,
      "outputs": [
        {
          "output_type": "stream",
          "name": "stdout",
          "text": [
            "  # of Artist  Num_of_Artists\n",
            "0    Artist 1               1\n",
            "1    Artist 2               2\n",
            "2    Artist 1               1\n",
            "3    Artist 1               1\n",
            "4    Artist 2               2\n",
            "  # of Nationality  Num_of_Nationality\n",
            "0    Nationality 1                   1\n",
            "1    Nationality 2                   2\n",
            "2    Nationality 1                   1\n",
            "3    Nationality 1                   1\n",
            "4    Nationality 2                   2\n"
          ]
        },
        {
          "output_type": "stream",
          "name": "stderr",
          "text": [
            "<ipython-input-34-5b0eb35f01c1>:16: FutureWarning: Downcasting behavior in `replace` is deprecated and will be removed in a future version. To retain the old behavior, explicitly call `result.infer_objects(copy=False)`. To opt-in to the future behavior, set `pd.set_option('future.no_silent_downcasting', True)`\n",
            "  df['Num_of_Artists'] = df['# of Artist'].replace(artist_mapping)\n",
            "<ipython-input-34-5b0eb35f01c1>:33: FutureWarning: Downcasting behavior in `replace` is deprecated and will be removed in a future version. To retain the old behavior, explicitly call `result.infer_objects(copy=False)`. To opt-in to the future behavior, set `pd.set_option('future.no_silent_downcasting', True)`\n",
            "  df['Num_of_Nationality'] = df['# of Nationality'].replace(nationality_mapping)\n"
          ]
        }
      ]
    },
    {
      "cell_type": "code",
      "source": [
        "detalles(df)\n",
        "print(df.head())"
      ],
      "metadata": {
        "colab": {
          "base_uri": "https://localhost:8080/"
        },
        "id": "Yc55SHe8QfVM",
        "outputId": "3e51b1af-58be-4b54-9f9b-d6bed9928c1f"
      },
      "execution_count": 35,
      "outputs": [
        {
          "output_type": "stream",
          "name": "stdout",
          "text": [
            "Número de columnas: 16\n",
            "Nombres de las columnas: ['Rank', 'Date', 'Danceability', 'Energy', 'Loudness', 'Speechiness', 'Acousticness', 'Instrumentalness', 'Valence', 'Artist (Ind.)', 'Nationality', 'Continent', 'Points (Total)', 'Points (Ind for each Artist/Nat)', 'Num_of_Artists', 'Num_of_Nationality']\n",
            "Número de filas: 23181\n",
            "   Rank       Date  Danceability  Energy  Loudness  Speechiness  Acousticness  \\\n",
            "0     1 2023-05-29         0.668   0.758   -5176.0        0.033         0.483   \n",
            "1     1 2023-05-29         0.668   0.758   -5176.0        0.033         0.483   \n",
            "2     2 2023-05-29         0.652   0.800   -4019.0        0.061         0.143   \n",
            "3     3 2023-05-29         0.812   0.479   -5678.0        0.333         0.213   \n",
            "4     3 2023-05-29         0.812   0.479   -5678.0        0.333         0.213   \n",
            "\n",
            "   Instrumentalness  Valence   Artist (Ind.)  Nationality      Continent  \\\n",
            "0             0.000    0.834  Eslabon Armado       Mexico  Latin-America   \n",
            "1             0.000    0.834      Peso Pluma       Mexico  Latin-America   \n",
            "2             0.629    0.234       Bad Bunny  Puerto Rico  Latin-America   \n",
            "3             0.000    0.559       Yng Lvcas       Mexico  Latin-America   \n",
            "4             0.000    0.559      Peso Pluma       Mexico  Latin-America   \n",
            "\n",
            "   Points (Total)  Points (Ind for each Artist/Nat)  Num_of_Artists  \\\n",
            "0             200                             100.0               1   \n",
            "1             200                             100.0               2   \n",
            "2             199                             199.0               1   \n",
            "3             198                              99.0               1   \n",
            "4             198                              99.0               2   \n",
            "\n",
            "   Num_of_Nationality  \n",
            "0                   1  \n",
            "1                   2  \n",
            "2                   1  \n",
            "3                   1  \n",
            "4                   2  \n"
          ]
        }
      ]
    },
    {
      "cell_type": "code",
      "source": [
        "# Función para mostrar información sobre columnas categóricas\n",
        "def explorar_columnas_categoricas(df):\n",
        "    for col in df.select_dtypes(include=['object']).columns:\n",
        "        if isinstance(df[col].iloc[0], list):  # Ignora columnas que contienen listas\n",
        "            continue\n",
        "\n",
        "        num_totales = len(df[col])  # Número total de valores\n",
        "        num_unicos = df[col].nunique()  # Número de valores únicos\n",
        "        valores_unicos = df[col].unique()  # Valores únicos\n",
        "\n",
        "        print(f\"Columna: {col}\")\n",
        "        print(f\"Número total de valores: {num_totales}\")\n",
        "        print(f\"Número de valores únicos: {num_unicos}\")\n",
        "        print(f\"Valores únicos (primeros 10): {valores_unicos[:10]}\")  # Muestra solo los primeros 10 valores únicos\n",
        "        print(\"---\")\n",
        "\n",
        "# Explorar columnas categóricas\n",
        "explorar_columnas_categoricas(df)"
      ],
      "metadata": {
        "colab": {
          "base_uri": "https://localhost:8080/"
        },
        "id": "gKxkxRMUQzOm",
        "outputId": "03e5d095-97d5-4e2e-ae70-dd68042e0407"
      },
      "execution_count": 36,
      "outputs": [
        {
          "output_type": "stream",
          "name": "stdout",
          "text": [
            "Columna: Artist (Ind.)\n",
            "Número total de valores: 23181\n",
            "Número de valores únicos: 336\n",
            "Valores únicos (primeros 10): ['Eslabon Armado' 'Peso Pluma' 'Bad Bunny' 'Yng Lvcas' 'FIFTY FIFTY'\n",
            " 'Grupo Frontera' 'Miley Cyrus' 'David Kushner' 'SZA' 'Harry Styles']\n",
            "---\n",
            "Columna: Nationality\n",
            "Número total de valores: 23181\n",
            "Número de valores únicos: 36\n",
            "Valores únicos (primeros 10): ['Mexico' 'Puerto Rico' 'South Korea' 'United States' 'United Kingdom'\n",
            " 'Colombia' 'Nigeria' 'Canada' 'Spain' 'France']\n",
            "---\n",
            "Columna: Continent\n",
            "Número total de valores: 23181\n",
            "Número de valores únicos: 7\n",
            "Valores únicos (primeros 10): ['Latin-America' 'Asia' 'Anglo-America' 'Europe' 'Africa' 'Oceania'\n",
            " 'Unknown']\n",
            "---\n"
          ]
        }
      ]
    },
    {
      "cell_type": "code",
      "source": [
        "import pandas as pd\n",
        "from sklearn.preprocessing import OneHotEncoder, LabelEncoder, StandardScaler\n",
        "from sklearn.model_selection import train_test_split\n"
      ],
      "metadata": {
        "id": "2813F7xFSLPr"
      },
      "execution_count": 37,
      "outputs": []
    },
    {
      "cell_type": "markdown",
      "source": [
        "## OneHotEncoder\n",
        "Trata cada categoría como independiente, sin asumir que hay un orden o jerarquía entre ellas."
      ],
      "metadata": {
        "id": "t5wvAAmnSy35"
      }
    },
    {
      "cell_type": "code",
      "source": [
        "ohe = OneHotEncoder(sparse_output=False)\n",
        "\n",
        "# Aplicar OneHotEncoder\n",
        "encoded_features = ohe.fit_transform(df[categorical_cols])\n",
        "\n",
        "# Crear un DataFrame con las columnas codificadas\n",
        "encoded_df = pd.DataFrame(encoded_features, columns=ohe.get_feature_names_out(categorical_cols))\n",
        "\n",
        "df = pd.concat([df.drop(columns=categorical_cols), encoded_df], axis=1)\n",
        "\n",
        "print(df.head())\n"
      ],
      "metadata": {
        "colab": {
          "base_uri": "https://localhost:8080/"
        },
        "id": "UuCF57l_SNHN",
        "outputId": "1d9b74be-c013-4348-ba0b-91091a4c2292"
      },
      "execution_count": 38,
      "outputs": [
        {
          "output_type": "stream",
          "name": "stdout",
          "text": [
            "   Rank       Date  Danceability  Energy  Loudness  Speechiness  Acousticness  \\\n",
            "0     1 2023-05-29         0.668   0.758   -5176.0        0.033         0.483   \n",
            "1     1 2023-05-29         0.668   0.758   -5176.0        0.033         0.483   \n",
            "2     2 2023-05-29         0.652   0.800   -4019.0        0.061         0.143   \n",
            "3     3 2023-05-29         0.812   0.479   -5678.0        0.333         0.213   \n",
            "4     3 2023-05-29         0.812   0.479   -5678.0        0.333         0.213   \n",
            "\n",
            "   Instrumentalness  Valence  Points (Total)  ...  Nationality_United Kingdom  \\\n",
            "0             0.000    0.834             200  ...                         0.0   \n",
            "1             0.000    0.834             200  ...                         0.0   \n",
            "2             0.629    0.234             199  ...                         0.0   \n",
            "3             0.000    0.559             198  ...                         0.0   \n",
            "4             0.000    0.559             198  ...                         0.0   \n",
            "\n",
            "   Nationality_United States  Nationality_Unknown  Continent_Africa  \\\n",
            "0                        0.0                  0.0               0.0   \n",
            "1                        0.0                  0.0               0.0   \n",
            "2                        0.0                  0.0               0.0   \n",
            "3                        0.0                  0.0               0.0   \n",
            "4                        0.0                  0.0               0.0   \n",
            "\n",
            "   Continent_Anglo-America  Continent_Asia  Continent_Europe  \\\n",
            "0                      0.0             0.0               0.0   \n",
            "1                      0.0             0.0               0.0   \n",
            "2                      0.0             0.0               0.0   \n",
            "3                      0.0             0.0               0.0   \n",
            "4                      0.0             0.0               0.0   \n",
            "\n",
            "   Continent_Latin-America  Continent_Oceania  Continent_Unknown  \n",
            "0                      1.0                0.0                0.0  \n",
            "1                      1.0                0.0                0.0  \n",
            "2                      1.0                0.0                0.0  \n",
            "3                      1.0                0.0                0.0  \n",
            "4                      1.0                0.0                0.0  \n",
            "\n",
            "[5 rows x 392 columns]\n"
          ]
        }
      ]
    },
    {
      "cell_type": "markdown",
      "source": [
        "## Label Encoding\n",
        " Label Encoding asigna un número entero a cada categoría, lo que puede crear una relación ordinal falsa entre ellas. Por ejemplo, \"Artist 1\" podría ser 0 y \"Artist 2\" 1, sugiriendo que \"Artist 2\" es \"mejor\" o \"mayor\" que \"Artist 1\", lo cual no es cierto."
      ],
      "metadata": {
        "id": "_GkIQDUYS5Ay"
      }
    },
    {
      "cell_type": "markdown",
      "source": [
        "## Discretización de Variables\n",
        "\n",
        "Proceso de convertir variables numéricas continuas en categorías discretas o \"bins\".Nos ayuda a interpretar y tambien a identificar patrones.\n",
        " En este caso, vamos a discretizar las variables **Danceability** y **Energy** por las siguientes razones:\n",
        "\n",
        "   - **Danceability**: Indica cuán adecuada es una canción para bailar.\n",
        "   - **Energy**: Esta variable refleja la intensidad y actividad de una canción.\n"
      ],
      "metadata": {
        "id": "sOjZi35XUo31"
      }
    },
    {
      "cell_type": "code",
      "source": [
        "# Discretización para 'Danceability' y 'Energy'\n",
        "# bins 5 , osea  5 categorias\n",
        "df['Danceability_binned'] = pd.cut(df['Danceability'], bins=5, labels=False)\n",
        "df['Energy_binned'] = pd.cut(df['Energy'], bins=5, labels=False)"
      ],
      "metadata": {
        "id": "ZljvC2FDUYZS"
      },
      "execution_count": 39,
      "outputs": []
    },
    {
      "cell_type": "code",
      "source": [
        "print(df[['Danceability', 'Danceability_binned', 'Energy', 'Energy_binned']].head())\n"
      ],
      "metadata": {
        "colab": {
          "base_uri": "https://localhost:8080/"
        },
        "id": "4QDMiQVaVS1_",
        "outputId": "48084303-7216-42d4-9880-e218a37c5b3e"
      },
      "execution_count": 40,
      "outputs": [
        {
          "output_type": "stream",
          "name": "stdout",
          "text": [
            "   Danceability  Danceability_binned  Energy  Energy_binned\n",
            "0         0.668                    3   0.758              3\n",
            "1         0.668                    3   0.758              3\n",
            "2         0.652                    3   0.800              3\n",
            "3         0.812                    4   0.479              2\n",
            "4         0.812                    4   0.479              2\n"
          ]
        }
      ]
    },
    {
      "cell_type": "code",
      "source": [
        "print(\"Distribución de 'Danceability_binned':\")\n",
        "print(df['Danceability_binned'].value_counts())\n",
        "\n",
        "print(\"Distribución de 'Energy_binned':\")\n",
        "print(df['Energy_binned'].value_counts())\n"
      ],
      "metadata": {
        "colab": {
          "base_uri": "https://localhost:8080/"
        },
        "id": "IJkuX6siVaLe",
        "outputId": "a6ec611a-e972-4a0f-f7be-caacc492c928"
      },
      "execution_count": 41,
      "outputs": [
        {
          "output_type": "stream",
          "name": "stdout",
          "text": [
            "Distribución de 'Danceability_binned':\n",
            "Danceability_binned\n",
            "3    9471\n",
            "2    8051\n",
            "4    3779\n",
            "1    1729\n",
            "0     151\n",
            "Name: count, dtype: int64\n",
            "Distribución de 'Energy_binned':\n",
            "Energy_binned\n",
            "3    10506\n",
            "2     7130\n",
            "4     3595\n",
            "1     1621\n",
            "0      329\n",
            "Name: count, dtype: int64\n"
          ]
        }
      ]
    },
    {
      "cell_type": "markdown",
      "source": [
        "### Resultados:\n",
        "\n",
        "#### **1. Danceability:**\n",
        "- **Bin 3**: Con **9471** valores, es el más común, indicando que muchas canciones tienen bailabilidad media-alta.\n",
        "- **Bin 2**: **8051** valores sugieren una buena cantidad de canciones con bailabilidad baja-media.\n",
        "- **Bines extremos (0 y 1)**: Representan pocos valores, indicando que hay pocas canciones con baja bailabilidad.\n",
        "\n",
        "#### **2. Energy:**\n",
        "- **Bin 3**: Con **10506** valores, la mayoría de las canciones tienen energía media-alta.\n",
        "- **Bines extremos (0 y 1)**: Similar a Danceability, hay pocos ejemplos de canciones con baja energía.\n",
        "\n",
        "#### **Interpretación General:**\n",
        "- **Tendencia General**: Ambas distribuciones muestran que la mayoría de las canciones tienen una \"bailabilidad\" y \"energía\" media a alta, lo que puede reflejar una tendencia en la música popular actual.\n",
        "- **Menor Representación de Bins Extremas**: Las canciones con características extremas (muy bajas o muy altas) son menos frecuentes.\n",
        "\n"
      ],
      "metadata": {
        "id": "DPGxj445VqgZ"
      }
    },
    {
      "cell_type": "markdown",
      "source": [
        "## Normalización\n",
        "Técnica escalar las características numéricas de un dataset a un rango similar. Al normalizar los datos, se reduce la influencia de las diferentes escalas de las variables, lo que puede mejorar la convergencia y el rendimiento del modelo."
      ],
      "metadata": {
        "id": "rb46vGRPWoHn"
      }
    },
    {
      "cell_type": "code",
      "source": [
        "numeric_cols = ['Danceability', 'Energy', 'Loudness', 'Speechiness', 'Acousticness',\n",
        "                'Instrumentalness', 'Valence', 'Points (Total)',\n",
        "                'Points (Ind for each Artist/Nat)', 'Num_of_Artists', 'Num_of_Nationality']\n",
        "\n",
        "scaler = StandardScaler()\n",
        "df[numeric_cols] = scaler.fit_transform(df[numeric_cols])\n",
        "\n",
        "# Mostrar los resultados de la normalización\n",
        "print(df[numeric_cols].head())"
      ],
      "metadata": {
        "colab": {
          "base_uri": "https://localhost:8080/"
        },
        "id": "La31SKtMXQS2",
        "outputId": "232a77fb-62be-49d6-b076-8e10b3ed77b6"
      },
      "execution_count": 42,
      "outputs": [
        {
          "output_type": "stream",
          "name": "stdout",
          "text": [
            "   Danceability    Energy  Loudness  Speechiness  Acousticness  \\\n",
            "0     -0.060460  0.681445 -0.029892    -0.670052      1.047175   \n",
            "1     -0.060460  0.681445 -0.029892    -0.670052      1.047175   \n",
            "2     -0.181634  0.963016  0.377901    -0.364715     -0.414239   \n",
            "3      1.030105 -1.188990 -0.206826     2.601422     -0.113359   \n",
            "4      1.030105 -1.188990 -0.206826     2.601422     -0.113359   \n",
            "\n",
            "   Instrumentalness   Valence  Points (Total)  \\\n",
            "0         -0.171931  1.333454        1.654353   \n",
            "1         -0.171931  1.333454        1.654353   \n",
            "2          7.023328 -1.240858        1.637321   \n",
            "3         -0.171931  0.153561        1.620290   \n",
            "4         -0.171931  0.153561        1.620290   \n",
            "\n",
            "   Points (Ind for each Artist/Nat)  Num_of_Artists  Num_of_Nationality  \n",
            "0                          0.637714       -0.599147           -0.599147  \n",
            "1                          0.637714        1.002979            1.002979  \n",
            "2                          2.706076       -0.599147           -0.599147  \n",
            "3                          0.616821       -0.599147           -0.599147  \n",
            "4                          0.616821        1.002979            1.002979  \n"
          ]
        }
      ]
    },
    {
      "cell_type": "code",
      "source": [
        "print(df.head())"
      ],
      "metadata": {
        "colab": {
          "base_uri": "https://localhost:8080/"
        },
        "id": "xuo02b0ZXVKG",
        "outputId": "ee8c0b7e-0345-41fd-b7e2-87ca81936d33"
      },
      "execution_count": 43,
      "outputs": [
        {
          "output_type": "stream",
          "name": "stdout",
          "text": [
            "   Rank       Date  Danceability    Energy  Loudness  Speechiness  \\\n",
            "0     1 2023-05-29     -0.060460  0.681445 -0.029892    -0.670052   \n",
            "1     1 2023-05-29     -0.060460  0.681445 -0.029892    -0.670052   \n",
            "2     2 2023-05-29     -0.181634  0.963016  0.377901    -0.364715   \n",
            "3     3 2023-05-29      1.030105 -1.188990 -0.206826     2.601422   \n",
            "4     3 2023-05-29      1.030105 -1.188990 -0.206826     2.601422   \n",
            "\n",
            "   Acousticness  Instrumentalness   Valence  Points (Total)  ...  \\\n",
            "0      1.047175         -0.171931  1.333454        1.654353  ...   \n",
            "1      1.047175         -0.171931  1.333454        1.654353  ...   \n",
            "2     -0.414239          7.023328 -1.240858        1.637321  ...   \n",
            "3     -0.113359         -0.171931  0.153561        1.620290  ...   \n",
            "4     -0.113359         -0.171931  0.153561        1.620290  ...   \n",
            "\n",
            "   Nationality_Unknown  Continent_Africa  Continent_Anglo-America  \\\n",
            "0                  0.0               0.0                      0.0   \n",
            "1                  0.0               0.0                      0.0   \n",
            "2                  0.0               0.0                      0.0   \n",
            "3                  0.0               0.0                      0.0   \n",
            "4                  0.0               0.0                      0.0   \n",
            "\n",
            "   Continent_Asia  Continent_Europe  Continent_Latin-America  \\\n",
            "0             0.0               0.0                      1.0   \n",
            "1             0.0               0.0                      1.0   \n",
            "2             0.0               0.0                      1.0   \n",
            "3             0.0               0.0                      1.0   \n",
            "4             0.0               0.0                      1.0   \n",
            "\n",
            "   Continent_Oceania  Continent_Unknown  Danceability_binned  Energy_binned  \n",
            "0                0.0                0.0                    3              3  \n",
            "1                0.0                0.0                    3              3  \n",
            "2                0.0                0.0                    3              3  \n",
            "3                0.0                0.0                    4              2  \n",
            "4                0.0                0.0                    4              2  \n",
            "\n",
            "[5 rows x 394 columns]\n"
          ]
        }
      ]
    }
  ]
}