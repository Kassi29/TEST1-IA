{
  "nbformat": 4,
  "nbformat_minor": 0,
  "metadata": {
    "colab": {
      "provenance": []
    },
    "kernelspec": {
      "name": "python3",
      "display_name": "Python 3"
    },
    "language_info": {
      "name": "python"
    }
  },
  "cells": [
    {
      "cell_type": "markdown",
      "source": [
        "\n",
        "## 8. Dataset Propio\n",
        "De las características de altura, peso y talla, realice su propio dataset determinando cuál será su clase. Realice el cálculo de la entropía y ganancia de información.\n"
      ],
      "metadata": {
        "id": "BxheBdWDcyuo"
      }
    },
    {
      "cell_type": "code",
      "execution_count": 21,
      "metadata": {
        "colab": {
          "base_uri": "https://localhost:8080/"
        },
        "id": "vcQOMSWkcutn",
        "outputId": "063edab9-e3e4-4a69-c15b-7f278cee1ab5"
      },
      "outputs": [
        {
          "output_type": "stream",
          "name": "stdout",
          "text": [
            "    Peso  Altura        IMC Clasificación_IMC\n",
            "0     50     150  22.222222       Peso normal\n",
            "1     55     155  22.892820       Peso normal\n",
            "2     60     160  23.437500       Peso normal\n",
            "3     65     165  23.875115       Peso normal\n",
            "4     70     170  24.221453       Peso normal\n",
            "5     75     175  24.489796       Peso normal\n",
            "6     80     180  24.691358       Peso normal\n",
            "7     85     185  24.835646       Peso normal\n",
            "8     70     160  27.343750         Sobrepeso\n",
            "9     75     170  25.951557         Sobrepeso\n",
            "10    80     175  26.122449         Sobrepeso\n",
            "11    85     180  26.234568         Sobrepeso\n",
            "12    65     165  23.875115       Peso normal\n",
            "13    70     170  24.221453       Peso normal\n",
            "14    55     155  22.892820       Peso normal\n",
            "15    60     160  23.437500       Peso normal\n",
            "16    90     185  26.296567         Sobrepeso\n",
            "17    85     180  26.234568         Sobrepeso\n",
            "18    80     175  26.122449         Sobrepeso\n",
            "19    95     190  26.315789         Sobrepeso\n"
          ]
        }
      ],
      "source": [
        "import pandas as pd\n",
        "\n",
        "# Crear un dataset con 20 entradas\n",
        "data = {\n",
        "    'Altura': [150, 155, 160, 165, 170, 175, 180, 185, 160, 170,\n",
        "               175, 180, 165, 170, 155, 160, 185, 180, 175, 190],\n",
        "    'Peso': [50, 55, 60, 65, 70, 75, 80, 85, 70, 75,\n",
        "             80, 85, 65, 70, 55, 60, 90, 85, 80, 95],\n",
        "    'Sexo': ['F', 'F', 'F', 'F', 'M', 'M', 'M', 'M', 'F', 'M',\n",
        "             'M', 'M', 'F', 'F', 'F', 'M', 'M', 'M', 'M', 'M'],\n",
        "    'Talla': ['S', 'S', 'M', 'M', 'L', 'L', 'XL', 'XL', 'M', 'L',\n",
        "              'L', 'XL', 'S', 'M', 'S', 'M', 'XL', 'XL', 'L', 'XL'],\n",
        "    'Edad': [22, 25, 30, 28, 32, 35, 29, 27, 24, 31,\n",
        "             22, 30, 26, 31, 29, 28, 34, 30, 36, 25]\n",
        "}\n",
        "\n",
        "# Convertir a DataFrame\n",
        "df = pd.DataFrame(data)\n",
        "\n",
        "# Convertir altura a metros y calcular IMC\n",
        "df['Altura_m'] = df['Altura'] / 100  # Altura en metros\n",
        "df['IMC'] = df['Peso'] / (df['Altura_m'] ** 2)\n",
        "\n",
        "# Clasificación del IMC\n",
        "def classify_bmi(imc):\n",
        "    if imc < 18.5:\n",
        "        return 'Bajo peso'\n",
        "    elif imc < 24.9:\n",
        "        return 'Peso normal'\n",
        "    elif imc < 29.9:\n",
        "        return 'Sobrepeso'\n",
        "    else:\n",
        "        return 'Obesidad'\n",
        "\n",
        "df['Clasificación_IMC'] = df['IMC'].apply(classify_bmi)\n",
        "\n",
        "print(df[['Peso', 'Altura', 'IMC', 'Clasificación_IMC']])\n"
      ]
    },
    {
      "cell_type": "markdown",
      "source": [
        "### Entropía\n",
        "La entropía es una medida de la incertidumbre o desorden en un conjunto de datos. Cuanto mayor sea la entropía, mayor será la diversidad de clases en el conjunto. Se utiliza para cuantificar la cantidad de información necesaria para describir el estado de un sistema."
      ],
      "metadata": {
        "id": "Yh4LCmmQfq9W"
      }
    },
    {
      "cell_type": "code",
      "source": [
        "import numpy as np\n",
        "\n",
        "def entropy(column):\n",
        "    probabilities = column.value_counts(normalize=True)\n",
        "    return -np.sum(probabilities * np.log2(probabilities))\n",
        "\n",
        "# Función para calcular la entropía de todas las columnas\n",
        "def calculate_entropies(df):\n",
        "    entropies = {}\n",
        "    for column in df.columns:\n",
        "        entropies[column] = entropy(df[column])\n",
        "    return entropies\n",
        "\n",
        "# Calcular y mostrar la entropía de cada columna\n",
        "entropies = calculate_entropies(df)\n",
        "for col, ent in entropies.items():\n",
        "    print(f'Entropía de {col}: {ent:.4f}')\n",
        "\n"
      ],
      "metadata": {
        "colab": {
          "base_uri": "https://localhost:8080/"
        },
        "id": "aEg8ghnlfEdf",
        "outputId": "3a9cdea6-e384-47a0-e288-74de99c3d6e1"
      },
      "execution_count": 24,
      "outputs": [
        {
          "output_type": "stream",
          "name": "stdout",
          "text": [
            "Entropía de Altura: 3.0710\n",
            "Entropía de Peso: 3.2087\n",
            "Entropía de Sexo: 0.9710\n",
            "Entropía de Talla: 1.9855\n",
            "Entropía de Edad: 3.5842\n",
            "Entropía de Altura_m: 3.0710\n",
            "Entropía de IMC: 3.7219\n",
            "Entropía de Clasificación_IMC: 0.9710\n"
          ]
        }
      ]
    },
    {
      "cell_type": "markdown",
      "source": [
        "Las variables de **altura, peso, edad y IMC** tienen una alta entropía, lo que sugiere que son útiles para el análisis de salud.\n",
        "Por otro lado, la baja entropía en sexo y clasificación del IMC indica que estas variables tienen una menor variabilidad y son más fáciles de predecir.\n",
        "\n",
        "\n",
        "\n",
        "\n",
        "\n"
      ],
      "metadata": {
        "id": "UDNpjvtsgmzN"
      }
    },
    {
      "cell_type": "markdown",
      "source": [
        "### Ganancia de Información\n",
        "La ganancia de información mide la reducción de incertidumbre al conocer el valor de un atributo en relación con una clase objetivo. Se calcula como la diferencia entre la entropía original y la entropía condicionada, indicando cuánto aporta un atributo a la predicción de la clase."
      ],
      "metadata": {
        "id": "vMMLP_KYgA1e"
      }
    },
    {
      "cell_type": "code",
      "source": [
        "# Función para calcular la ganancia de información respecto a la clasificación de IMC\n",
        "def information_gain(df, attribute, target):\n",
        "    total_entropy = entropy(df[target])\n",
        "    attribute_values = df[attribute].value_counts(normalize=True)\n",
        "    conditional_entropy = 0\n",
        "\n",
        "    for value in attribute_values.index:\n",
        "        subset = df[df[attribute] == value]\n",
        "        conditional_entropy += attribute_values[value] * entropy(subset[target])\n",
        "\n",
        "    return total_entropy - conditional_entropy\n",
        "\n",
        "# Calcular ganancia de información para cada columna respecto a 'Clasificación_IMC'\n",
        "gains_imc = {}\n",
        "for column in df.columns:\n",
        "    if column not in ['Clasificación_IMC', 'IMC', 'Altura_m']:  # Excluir columnas no necesarias\n",
        "        gains_imc[column] = information_gain(df, column, 'Clasificación_IMC')\n",
        "\n",
        "# Mostrar resultados\n",
        "for col, gain in gains_imc.items():\n",
        "    print(f'Ganancia de Información de {col} respecto a Clasificación_IMC: {gain:.4f}')"
      ],
      "metadata": {
        "colab": {
          "base_uri": "https://localhost:8080/"
        },
        "id": "fwEP5pAXhDgH",
        "outputId": "c2ff4aa6-08e9-4a0d-a58d-1a738807c9f7"
      },
      "execution_count": 27,
      "outputs": [
        {
          "output_type": "stream",
          "name": "stdout",
          "text": [
            "Ganancia de Información de Altura respecto a Clasificación_IMC: 0.3200\n",
            "Ganancia de Información de Peso respecto a Clasificación_IMC: 0.4577\n",
            "Ganancia de Información de Sexo respecto a Clasificación_IMC: 0.1656\n",
            "Ganancia de Información de Talla respecto a Clasificación_IMC: 0.2722\n",
            "Ganancia de Información de Edad respecto a Clasificación_IMC: 0.5332\n"
          ]
        }
      ]
    },
    {
      "cell_type": "markdown",
      "source": [
        "\n",
        "La Ganancia de Información mide qué tanto ayuda una variable a predecir el IMC.\n",
        "\n",
        "Edad (0.5332) y Peso (0.4577) son las más relevantes para predecir el IMC.\n",
        "Altura (0.3200) y Talla (0.2722) tienen una relación moderada.\n",
        "Sexo (0.1656) aporta poca información.\n",
        "\n",
        "\n"
      ],
      "metadata": {
        "id": "G6vvCgtjhRjv"
      }
    }
  ]
}