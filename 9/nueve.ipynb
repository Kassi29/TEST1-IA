{
  "nbformat": 4,
  "nbformat_minor": 0,
  "metadata": {
    "colab": {
      "provenance": []
    },
    "kernelspec": {
      "name": "python3",
      "display_name": "Python 3"
    },
    "language_info": {
      "name": "python"
    }
  },
  "cells": [
    {
      "cell_type": "markdown",
      "source": [
        "\n",
        "## 9. Problema de Optimización\n",
        "Usted se escapará al campo luego del examen de IA, deberá llevar varios artículos que no ingresan a su mochila. ¿Cómo optimizaría este problema permitiendo llevar la mayor cantidad de artículos?"
      ],
      "metadata": {
        "id": "TKhFMTGiMdBx"
      }
    },
    {
      "cell_type": "code",
      "source": [
        "def knapsack(weights, values, capacity):\n",
        "    n = len(values)\n",
        "    # Crear una matriz\n",
        "    dp = [[0 for _ in range(capacity + 1)] for _ in range(n + 1)]\n",
        "\n",
        "\n",
        "    for i in range(1, n + 1):\n",
        "        for w in range(1, capacity + 1):\n",
        "            if weights[i - 1] <= w:\n",
        "                dp[i][w] = max(dp[i - 1][w], dp[i - 1][w - weights[i - 1]] + values[i - 1])\n",
        "            else:\n",
        "                dp[i][w] = dp[i - 1][w]\n",
        "\n",
        "            print(f\"dp[{i}][{w}] = {dp[i][w]} (incluye item {i-1} con peso {weights[i-1]} y valor {values[i-1]})\" if weights[i-1] <= w else f\"dp[{i}][{w}] = {dp[i][w]} (no incluye item {i-1})\")\n",
        "\n",
        "    # Imprimir la matriz final\n",
        "    print(\"\\nMatriz final dp:\")\n",
        "    for row in dp:\n",
        "        print(row)\n",
        "\n",
        "    # Obtener el valor máximo\n",
        "    max_value = dp[n][capacity]\n",
        "\n",
        "    # Identificar los artículos seleccionados\n",
        "    selected_items = []\n",
        "    w = capacity\n",
        "    for i in range(n, 0, -1):\n",
        "        if dp[i][w] != dp[i - 1][w]:\n",
        "            selected_items.append(i - 1)\n",
        "            w -= weights[i - 1]\n",
        "\n",
        "    return max_value, selected_items\n",
        "\n",
        "\n",
        "weights = [1,5,6,7]  # Pesos de los artículos\n",
        "values = [ 20,5,10,15]  # Valores de los artículos\n",
        "capacity = 8  # Capacidad de la mochila\n",
        "\n",
        "max_value, selected_items = knapsack(weights, values, capacity)\n",
        "\n",
        "print(f\"\\nValor máximo que se puede llevar: {max_value}\")\n",
        "print(f\"Índices de los artículos seleccionados: {selected_items}\")\n"
      ],
      "metadata": {
        "colab": {
          "base_uri": "https://localhost:8080/"
        },
        "id": "1i28zjfc44Mx",
        "outputId": "dc8fe7ef-c05c-425f-e509-46e71856f54e"
      },
      "execution_count": 12,
      "outputs": [
        {
          "output_type": "stream",
          "name": "stdout",
          "text": [
            "dp[1][1] = 20 (incluye item 0 con peso 1 y valor 20)\n",
            "dp[1][2] = 20 (incluye item 0 con peso 1 y valor 20)\n",
            "dp[1][3] = 20 (incluye item 0 con peso 1 y valor 20)\n",
            "dp[1][4] = 20 (incluye item 0 con peso 1 y valor 20)\n",
            "dp[1][5] = 20 (incluye item 0 con peso 1 y valor 20)\n",
            "dp[1][6] = 20 (incluye item 0 con peso 1 y valor 20)\n",
            "dp[1][7] = 20 (incluye item 0 con peso 1 y valor 20)\n",
            "dp[1][8] = 20 (incluye item 0 con peso 1 y valor 20)\n",
            "dp[2][1] = 20 (no incluye item 1)\n",
            "dp[2][2] = 20 (no incluye item 1)\n",
            "dp[2][3] = 20 (no incluye item 1)\n",
            "dp[2][4] = 20 (no incluye item 1)\n",
            "dp[2][5] = 20 (incluye item 1 con peso 5 y valor 5)\n",
            "dp[2][6] = 25 (incluye item 1 con peso 5 y valor 5)\n",
            "dp[2][7] = 25 (incluye item 1 con peso 5 y valor 5)\n",
            "dp[2][8] = 25 (incluye item 1 con peso 5 y valor 5)\n",
            "dp[3][1] = 20 (no incluye item 2)\n",
            "dp[3][2] = 20 (no incluye item 2)\n",
            "dp[3][3] = 20 (no incluye item 2)\n",
            "dp[3][4] = 20 (no incluye item 2)\n",
            "dp[3][5] = 20 (no incluye item 2)\n",
            "dp[3][6] = 25 (incluye item 2 con peso 6 y valor 10)\n",
            "dp[3][7] = 30 (incluye item 2 con peso 6 y valor 10)\n",
            "dp[3][8] = 30 (incluye item 2 con peso 6 y valor 10)\n",
            "dp[4][1] = 20 (no incluye item 3)\n",
            "dp[4][2] = 20 (no incluye item 3)\n",
            "dp[4][3] = 20 (no incluye item 3)\n",
            "dp[4][4] = 20 (no incluye item 3)\n",
            "dp[4][5] = 20 (no incluye item 3)\n",
            "dp[4][6] = 25 (no incluye item 3)\n",
            "dp[4][7] = 30 (incluye item 3 con peso 7 y valor 15)\n",
            "dp[4][8] = 35 (incluye item 3 con peso 7 y valor 15)\n",
            "\n",
            "Matriz final dp:\n",
            "[0, 0, 0, 0, 0, 0, 0, 0, 0]\n",
            "[0, 20, 20, 20, 20, 20, 20, 20, 20]\n",
            "[0, 20, 20, 20, 20, 20, 25, 25, 25]\n",
            "[0, 20, 20, 20, 20, 20, 25, 30, 30]\n",
            "[0, 20, 20, 20, 20, 20, 25, 30, 35]\n",
            "\n",
            "Valor máximo que se puede llevar: 35\n",
            "Índices de los artículos seleccionados: [3, 0]\n"
          ]
        }
      ]
    }
  ]
}