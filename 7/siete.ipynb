{
  "nbformat": 4,
  "nbformat_minor": 0,
  "metadata": {
    "colab": {
      "provenance": []
    },
    "kernelspec": {
      "name": "python3",
      "display_name": "Python 3"
    },
    "language_info": {
      "name": "python"
    }
  },
  "cells": [
    {
      "cell_type": "markdown",
      "source": [
        "## 7. Algoritmo Genético en Python\n",
        "Programe el anterior problema en Python con:\n"
      ],
      "metadata": {
        "id": "YdT1uJ_2cKCH"
      }
    },
    {
      "cell_type": "code",
      "execution_count": 2,
      "metadata": {
        "colab": {
          "base_uri": "https://localhost:8080/"
        },
        "id": "a7mUaDPCNrP2",
        "outputId": "6e2cf0cd-322c-4101-a73e-857a435627b3"
      },
      "outputs": [
        {
          "output_type": "stream",
          "name": "stdout",
          "text": [
            "Collecting deap\n",
            "  Downloading deap-1.4.1-cp310-cp310-manylinux_2_5_x86_64.manylinux1_x86_64.manylinux_2_17_x86_64.manylinux2014_x86_64.whl.metadata (13 kB)\n",
            "Requirement already satisfied: numpy in /usr/local/lib/python3.10/dist-packages (from deap) (1.26.4)\n",
            "Downloading deap-1.4.1-cp310-cp310-manylinux_2_5_x86_64.manylinux1_x86_64.manylinux_2_17_x86_64.manylinux2014_x86_64.whl (135 kB)\n",
            "\u001b[?25l   \u001b[90m━━━━━━━━━━━━━━━━━━━━━━━━━━━━━━━━━━━━━━━━\u001b[0m \u001b[32m0.0/135.4 kB\u001b[0m \u001b[31m?\u001b[0m eta \u001b[36m-:--:--\u001b[0m\r\u001b[2K   \u001b[91m━━━━━━━━━━━━━━━━━━━━━━━━━━━━━━━━━━━━━━━\u001b[0m\u001b[90m╺\u001b[0m \u001b[32m133.1/135.4 kB\u001b[0m \u001b[31m4.1 MB/s\u001b[0m eta \u001b[36m0:00:01\u001b[0m\r\u001b[2K   \u001b[90m━━━━━━━━━━━━━━━━━━━━━━━━━━━━━━━━━━━━━━━━\u001b[0m \u001b[32m135.4/135.4 kB\u001b[0m \u001b[31m2.8 MB/s\u001b[0m eta \u001b[36m0:00:00\u001b[0m\n",
            "\u001b[?25hInstalling collected packages: deap\n",
            "Successfully installed deap-1.4.1\n"
          ]
        }
      ],
      "source": [
        "pip install deap\n"
      ]
    },
    {
      "cell_type": "markdown",
      "source": [
        "## a. Uso de DEAP"
      ],
      "metadata": {
        "id": "T3fEx8kDcL4-"
      }
    },
    {
      "cell_type": "code",
      "source": [
        "import random\n",
        "from deap import base, creator, tools\n",
        "\n",
        "# Definir la función objetivo\n",
        "def objective_function(x):\n",
        "    return x**2 - x - 1,\n",
        "\n",
        "creator.create(\"FitnessMax\", base.Fitness, weights=(1.0,))\n",
        "creator.create(\"Individual\", list, fitness=creator.FitnessMax)\n",
        "\n",
        "toolbox = base.Toolbox()\n",
        "toolbox.register(\"attr_float\", random.uniform, -10, 10)  # Valores entre -10 y 10\n",
        "toolbox.register(\"individual\", tools.initRepeat, creator.Individual, toolbox.attr_float, n=1)\n",
        "toolbox.register(\"population\", tools.initRepeat, list, toolbox.individual)\n",
        "toolbox.register(\"evaluate\", lambda ind: objective_function(ind[0]))\n",
        "toolbox.register(\"mate\", tools.cxBlend, alpha=0.5)\n",
        "toolbox.register(\"mutate\", tools.mutGaussian, mu=0, sigma=1, indpb=0.2)\n",
        "toolbox.register(\"select\", tools.selTournament, tournsize=3)\n",
        "\n",
        "# Parámetros\n",
        "population_size = 10\n",
        "generations = 3\n",
        "\n",
        "\n",
        "population = toolbox.population(n=population_size)\n",
        "\n",
        "# Algoritmo genético\n",
        "for gen in range(generations):\n",
        "    # Evaluar la población\n",
        "    fitnesses = list(map(toolbox.evaluate, population))\n",
        "    for ind, fit in zip(population, fitnesses):\n",
        "        ind.fitness.values = fit\n",
        "\n",
        "\n",
        "    print(f\"\\nGeneración {gen + 1}:\")\n",
        "    print(\"Individuo\\tFitness\")\n",
        "    for ind in population:\n",
        "        print(f\"{ind[0]:.2f}\\t\\t{ind.fitness.values[0]:.2f}\")\n",
        "\n",
        "    # Selección\n",
        "    offspring = toolbox.select(population, len(population))\n",
        "    offspring = list(map(toolbox.clone, offspring))\n",
        "\n",
        "    # Cruzamiento y mutación\n",
        "    for child1, child2 in zip(offspring[::2], offspring[1::2]):\n",
        "        if random.random() < 0.5:  # Tasa de cruzamiento\n",
        "            toolbox.mate(child1, child2)\n",
        "            del child1.fitness.values  # Invalidar la fitness\n",
        "            del child2.fitness.values  # Invalidar la fitness\n",
        "\n",
        "    for mutant in offspring:\n",
        "        if random.random() < 0.2:  # Tasa de mutación\n",
        "            toolbox.mutate(mutant)\n",
        "            del mutant.fitness.values  # Invalidar la fitness\n",
        "\n",
        "    # Evaluar la nueva población\n",
        "    fitnesses = list(map(toolbox.evaluate, offspring))\n",
        "    for ind, fit in zip(offspring, fitnesses):\n",
        "        ind.fitness.values = fit\n",
        "\n",
        "    # Reemplazo\n",
        "    population[:] = offspring\n",
        "\n",
        "\n",
        "    fits = [ind.fitness.values[0] for ind in population]\n",
        "    best_index = fits.index(max(fits))\n",
        "    print(f\"Mejor individuo = {population[best_index]}, Fitness = {fits[best_index]}\")\n",
        "\n",
        "# Resultado final\n",
        "best_individual = max(population, key=lambda ind: ind.fitness.values[0])\n",
        "print(f\"\\nMejor individuo final: {best_individual}, Fitness = {best_individual.fitness.values[0]}\")\n"
      ],
      "metadata": {
        "colab": {
          "base_uri": "https://localhost:8080/"
        },
        "id": "ZUqTdgB5NzR_",
        "outputId": "ec49e395-f44d-4e55-97c6-d15d8f856595"
      },
      "execution_count": 3,
      "outputs": [
        {
          "output_type": "stream",
          "name": "stdout",
          "text": [
            "\n",
            "Generación 1:\n",
            "Individuo\tFitness\n",
            "7.09\t\t42.13\n",
            "4.46\t\t14.41\n",
            "-7.39\t\t61.01\n",
            "2.16\t\t1.49\n",
            "-9.98\t\t108.55\n",
            "-0.00\t\t-1.00\n",
            "-7.71\t\t66.18\n",
            "5.65\t\t25.30\n",
            "-5.89\t\t39.58\n",
            "-0.72\t\t0.25\n",
            "Mejor individuo = [-11.503471935077844], Fitness = 142.83333849620143\n",
            "\n",
            "Generación 2:\n",
            "Individuo\tFitness\n",
            "-7.39\t\t61.01\n",
            "-9.98\t\t108.55\n",
            "-4.36\t\t22.42\n",
            "-11.50\t\t142.83\n",
            "-9.98\t\t108.55\n",
            "-9.98\t\t108.55\n",
            "2.35\t\t2.16\n",
            "-2.58\t\t8.27\n",
            "-9.98\t\t108.55\n",
            "7.09\t\t42.13\n",
            "Mejor individuo = [-11.503471935077844], Fitness = 142.83333849620143\n",
            "\n",
            "Generación 3:\n",
            "Individuo\tFitness\n",
            "-11.50\t\t142.83\n",
            "-9.98\t\t108.55\n",
            "-9.98\t\t108.55\n",
            "-9.98\t\t108.55\n",
            "-9.98\t\t108.55\n",
            "-9.98\t\t108.55\n",
            "0.06\t\t-1.06\n",
            "-2.95\t\t10.68\n",
            "-7.39\t\t61.01\n",
            "-10.46\t\t118.95\n",
            "Mejor individuo = [-11.503471935077844], Fitness = 142.83333849620143\n",
            "\n",
            "Mejor individuo final: [-11.503471935077844], Fitness = 142.83333849620143\n"
          ]
        }
      ]
    },
    {
      "cell_type": "markdown",
      "source": [
        "## b. Sin el uso de DEAP"
      ],
      "metadata": {
        "id": "W3a5CQN9cPUw"
      }
    },
    {
      "cell_type": "code",
      "source": [
        "import random\n",
        "\n",
        "# Definir la función objetivo\n",
        "def objective_function(x):\n",
        "    return x**2 - x - 1\n",
        "\n",
        "# Crear un individuo\n",
        "def create_individual():\n",
        "    return random.uniform(-10, 10)\n",
        "\n",
        "# Cruzamiento\n",
        "def crossover(parent1, parent2):\n",
        "    return (parent1 + parent2) / 2\n",
        "\n",
        "# Mutación\n",
        "def mutate(individual):\n",
        "    return individual + random.uniform(-1, 1)\n",
        "\n",
        "# Selección\n",
        "def select(population):\n",
        "    return max(population, key=lambda x: objective_function(x))  # Selecciona el mejor individuo\n",
        "\n",
        "# Parámetros\n",
        "population_size = 10\n",
        "generations = 3\n",
        "\n",
        "# Inicializar población\n",
        "population = [create_individual() for _ in range(population_size)]\n",
        "\n",
        "# Algoritmo genético\n",
        "for gen in range(generations):\n",
        "    # Evaluar la población\n",
        "    fitnesses = [objective_function(ind) for ind in population]\n",
        "    population = sorted(zip(population, fitnesses), key=lambda x: x[1], reverse=True)\n",
        "\n",
        "\n",
        "    print(f\"\\nGeneración {gen + 1}:\")\n",
        "    print(\"Individuo\\tFitness\")\n",
        "    for ind, fit in population:\n",
        "        print(f\"{ind:.2f}\\t\\t{fit:.2f}\")\n",
        "\n",
        "\n",
        "    best_individual = population[0][0]\n",
        "    print(f\"Mejor individuo = {best_individual:.2f}, Fitness = {objective_function(best_individual):.2f}\")\n",
        "\n",
        "    # Crear nueva población\n",
        "    new_population = []\n",
        "    for _ in range(population_size // 2):\n",
        "        parent1 = select([ind[0] for ind in population])  # Solo los individuos\n",
        "        parent2 = select([ind[0] for ind in population])\n",
        "        child1 = crossover(parent1, parent2)\n",
        "        child2 = crossover(parent1, parent2)\n",
        "        new_population.extend([mutate(child1), mutate(child2)])\n",
        "\n",
        "    population = new_population\n",
        "\n",
        "# Resultado final\n",
        "best_individual = select(population)\n",
        "print(f\"\\nMejor individuo final: {best_individual:.2f}, Fitness = {objective_function(best_individual):.2f}\")\n"
      ],
      "metadata": {
        "colab": {
          "base_uri": "https://localhost:8080/"
        },
        "id": "EdWkOTZTN1F-",
        "outputId": "03f8373e-0d49-45dc-e462-93739e1a4d49"
      },
      "execution_count": 8,
      "outputs": [
        {
          "output_type": "stream",
          "name": "stdout",
          "text": [
            "\n",
            "Generación 1:\n",
            "Individuo\tFitness\n",
            "-8.87\t\t86.55\n",
            "-8.80\t\t85.17\n",
            "8.52\t\t63.14\n",
            "-6.05\t\t41.63\n",
            "-2.99\t\t10.90\n",
            "-2.52\t\t7.87\n",
            "2.57\t\t3.04\n",
            "2.19\t\t1.61\n",
            "0.99\t\t-1.01\n",
            "0.83\t\t-1.14\n",
            "Mejor individuo = -8.87, Fitness = 86.55\n",
            "\n",
            "Generación 2:\n",
            "Individuo\tFitness\n",
            "-9.60\t\t100.74\n",
            "-9.59\t\t100.57\n",
            "-9.52\t\t99.10\n",
            "-9.42\t\t97.07\n",
            "-9.02\t\t89.38\n",
            "-8.84\t\t86.05\n",
            "-8.72\t\t83.83\n",
            "-8.57\t\t81.01\n",
            "-8.12\t\t73.07\n",
            "-8.00\t\t70.97\n",
            "Mejor individuo = -9.60, Fitness = 100.74\n",
            "\n",
            "Generación 3:\n",
            "Individuo\tFitness\n",
            "-10.37\t\t116.89\n",
            "-10.32\t\t115.75\n",
            "-10.20\t\t113.28\n",
            "-10.13\t\t111.81\n",
            "-9.93\t\t107.47\n",
            "-9.93\t\t107.45\n",
            "-9.86\t\t106.09\n",
            "-9.67\t\t102.21\n",
            "-8.90\t\t87.02\n",
            "-8.81\t\t85.47\n",
            "Mejor individuo = -10.37, Fitness = 116.89\n",
            "\n",
            "Mejor individuo final: -11.19, Fitness = 135.30\n"
          ]
        }
      ]
    }
  ]
}